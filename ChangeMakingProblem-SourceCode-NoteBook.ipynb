{
  "nbformat": 4,
  "nbformat_minor": 0,
  "metadata": {
    "colab": {
      "provenance": []
    },
    "kernelspec": {
      "name": "python3",
      "display_name": "Python 3"
    },
    "language_info": {
      "name": "python"
    }
  },
  "cells": [
    {
      "cell_type": "markdown",
      "source": [
        "# Algorithm implementation"
      ],
      "metadata": {
        "id": "sYa7zS_G71Kg"
      }
    },
    {
      "cell_type": "code",
      "execution_count": 3,
      "metadata": {
        "id": "5IYJIXnc7rL6"
      },
      "outputs": [],
      "source": [
        "def ChangeMaking(D, n):\n",
        "    F = [0] * (n + 1)\n",
        "\n",
        "    for i in range(1, n + 1):\n",
        "        temp = float('inf')\n",
        "        j = 0\n",
        "\n",
        "        while j < len(D) and i >= D[j]:\n",
        "            temp = min(F[i - D[j]], temp)\n",
        "            j += 1\n",
        "\n",
        "        F[i] = temp + 1\n",
        "\n",
        "    return F[n]"
      ]
    },
    {
      "cell_type": "markdown",
      "source": [
        "# Example Usage"
      ],
      "metadata": {
        "id": "K6C9eJG37-_-"
      }
    },
    {
      "cell_type": "code",
      "source": [
        "D=[1,3,4]\n",
        "n=6\n",
        "print(f\"Minimum Number of Coins: {ChangeMaking(D,n)}\")"
      ],
      "metadata": {
        "colab": {
          "base_uri": "https://localhost:8080/"
        },
        "id": "tto72StT7zZz",
        "outputId": "3d2a5a2d-9ac1-4421-db47-99d9bdfde252"
      },
      "execution_count": 4,
      "outputs": [
        {
          "output_type": "stream",
          "name": "stdout",
          "text": [
            "Minimum Number of Coins: 2\n"
          ]
        }
      ]
    }
  ]
}